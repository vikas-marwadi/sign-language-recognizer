{
 "cells": [
  {
   "cell_type": "code",
   "execution_count": 18,
   "metadata": {},
   "outputs": [],
   "source": [
    "from sklearn.model_selection import train_test_split\n",
    "from tensorflow.keras.preprocessing import image\n",
    "import matplotlib.pyplot as plt\n",
    "import seaborn as sns\n",
    "from PIL import Image\n",
    "import pandas as pd\n",
    "import numpy as np\n",
    "import cv2"
   ]
  },
  {
   "cell_type": "code",
   "execution_count": 2,
   "metadata": {},
   "outputs": [
    {
     "data": {
      "text/html": [
       "<div>\n",
       "<style scoped>\n",
       "    .dataframe tbody tr th:only-of-type {\n",
       "        vertical-align: middle;\n",
       "    }\n",
       "\n",
       "    .dataframe tbody tr th {\n",
       "        vertical-align: top;\n",
       "    }\n",
       "\n",
       "    .dataframe thead th {\n",
       "        text-align: right;\n",
       "    }\n",
       "</style>\n",
       "<table border=\"1\" class=\"dataframe\">\n",
       "  <thead>\n",
       "    <tr style=\"text-align: right;\">\n",
       "      <th></th>\n",
       "      <th>label</th>\n",
       "      <th>pixel1</th>\n",
       "      <th>pixel2</th>\n",
       "      <th>pixel3</th>\n",
       "      <th>pixel4</th>\n",
       "      <th>pixel5</th>\n",
       "      <th>pixel6</th>\n",
       "      <th>pixel7</th>\n",
       "      <th>pixel8</th>\n",
       "      <th>pixel9</th>\n",
       "      <th>...</th>\n",
       "      <th>pixel775</th>\n",
       "      <th>pixel776</th>\n",
       "      <th>pixel777</th>\n",
       "      <th>pixel778</th>\n",
       "      <th>pixel779</th>\n",
       "      <th>pixel780</th>\n",
       "      <th>pixel781</th>\n",
       "      <th>pixel782</th>\n",
       "      <th>pixel783</th>\n",
       "      <th>pixel784</th>\n",
       "    </tr>\n",
       "  </thead>\n",
       "  <tbody>\n",
       "    <tr>\n",
       "      <td>0</td>\n",
       "      <td>3</td>\n",
       "      <td>107</td>\n",
       "      <td>118</td>\n",
       "      <td>127</td>\n",
       "      <td>134</td>\n",
       "      <td>139</td>\n",
       "      <td>143</td>\n",
       "      <td>146</td>\n",
       "      <td>150</td>\n",
       "      <td>153</td>\n",
       "      <td>...</td>\n",
       "      <td>207</td>\n",
       "      <td>207</td>\n",
       "      <td>207</td>\n",
       "      <td>207</td>\n",
       "      <td>206</td>\n",
       "      <td>206</td>\n",
       "      <td>206</td>\n",
       "      <td>204</td>\n",
       "      <td>203</td>\n",
       "      <td>202</td>\n",
       "    </tr>\n",
       "    <tr>\n",
       "      <td>1</td>\n",
       "      <td>6</td>\n",
       "      <td>155</td>\n",
       "      <td>157</td>\n",
       "      <td>156</td>\n",
       "      <td>156</td>\n",
       "      <td>156</td>\n",
       "      <td>157</td>\n",
       "      <td>156</td>\n",
       "      <td>158</td>\n",
       "      <td>158</td>\n",
       "      <td>...</td>\n",
       "      <td>69</td>\n",
       "      <td>149</td>\n",
       "      <td>128</td>\n",
       "      <td>87</td>\n",
       "      <td>94</td>\n",
       "      <td>163</td>\n",
       "      <td>175</td>\n",
       "      <td>103</td>\n",
       "      <td>135</td>\n",
       "      <td>149</td>\n",
       "    </tr>\n",
       "    <tr>\n",
       "      <td>2</td>\n",
       "      <td>2</td>\n",
       "      <td>187</td>\n",
       "      <td>188</td>\n",
       "      <td>188</td>\n",
       "      <td>187</td>\n",
       "      <td>187</td>\n",
       "      <td>186</td>\n",
       "      <td>187</td>\n",
       "      <td>188</td>\n",
       "      <td>187</td>\n",
       "      <td>...</td>\n",
       "      <td>202</td>\n",
       "      <td>201</td>\n",
       "      <td>200</td>\n",
       "      <td>199</td>\n",
       "      <td>198</td>\n",
       "      <td>199</td>\n",
       "      <td>198</td>\n",
       "      <td>195</td>\n",
       "      <td>194</td>\n",
       "      <td>195</td>\n",
       "    </tr>\n",
       "    <tr>\n",
       "      <td>3</td>\n",
       "      <td>2</td>\n",
       "      <td>211</td>\n",
       "      <td>211</td>\n",
       "      <td>212</td>\n",
       "      <td>212</td>\n",
       "      <td>211</td>\n",
       "      <td>210</td>\n",
       "      <td>211</td>\n",
       "      <td>210</td>\n",
       "      <td>210</td>\n",
       "      <td>...</td>\n",
       "      <td>235</td>\n",
       "      <td>234</td>\n",
       "      <td>233</td>\n",
       "      <td>231</td>\n",
       "      <td>230</td>\n",
       "      <td>226</td>\n",
       "      <td>225</td>\n",
       "      <td>222</td>\n",
       "      <td>229</td>\n",
       "      <td>163</td>\n",
       "    </tr>\n",
       "    <tr>\n",
       "      <td>4</td>\n",
       "      <td>13</td>\n",
       "      <td>164</td>\n",
       "      <td>167</td>\n",
       "      <td>170</td>\n",
       "      <td>172</td>\n",
       "      <td>176</td>\n",
       "      <td>179</td>\n",
       "      <td>180</td>\n",
       "      <td>184</td>\n",
       "      <td>185</td>\n",
       "      <td>...</td>\n",
       "      <td>92</td>\n",
       "      <td>105</td>\n",
       "      <td>105</td>\n",
       "      <td>108</td>\n",
       "      <td>133</td>\n",
       "      <td>163</td>\n",
       "      <td>157</td>\n",
       "      <td>163</td>\n",
       "      <td>164</td>\n",
       "      <td>179</td>\n",
       "    </tr>\n",
       "  </tbody>\n",
       "</table>\n",
       "<p>5 rows × 785 columns</p>\n",
       "</div>"
      ],
      "text/plain": [
       "   label  pixel1  pixel2  pixel3  pixel4  pixel5  pixel6  pixel7  pixel8  \\\n",
       "0      3     107     118     127     134     139     143     146     150   \n",
       "1      6     155     157     156     156     156     157     156     158   \n",
       "2      2     187     188     188     187     187     186     187     188   \n",
       "3      2     211     211     212     212     211     210     211     210   \n",
       "4     13     164     167     170     172     176     179     180     184   \n",
       "\n",
       "   pixel9  ...  pixel775  pixel776  pixel777  pixel778  pixel779  pixel780  \\\n",
       "0     153  ...       207       207       207       207       206       206   \n",
       "1     158  ...        69       149       128        87        94       163   \n",
       "2     187  ...       202       201       200       199       198       199   \n",
       "3     210  ...       235       234       233       231       230       226   \n",
       "4     185  ...        92       105       105       108       133       163   \n",
       "\n",
       "   pixel781  pixel782  pixel783  pixel784  \n",
       "0       206       204       203       202  \n",
       "1       175       103       135       149  \n",
       "2       198       195       194       195  \n",
       "3       225       222       229       163  \n",
       "4       157       163       164       179  \n",
       "\n",
       "[5 rows x 785 columns]"
      ]
     },
     "execution_count": 2,
     "metadata": {},
     "output_type": "execute_result"
    }
   ],
   "source": [
    "train_df = pd.read_csv(r'E:\\SGP Projects\\5th Sem\\Dataset\\training\\sign_mnist_train.csv')\n",
    "test_df = pd.read_csv('E:/SGP Projects/5th Sem/Dataset/testing/sign_mnist_test.csv')\n",
    "\n",
    "train_df.head()"
   ]
  },
  {
   "cell_type": "code",
   "execution_count": 3,
   "metadata": {},
   "outputs": [
    {
     "data": {
      "text/plain": [
       "<matplotlib.axes._subplots.AxesSubplot at 0x1ac2de74d48>"
      ]
     },
     "execution_count": 3,
     "metadata": {},
     "output_type": "execute_result"
    },
    {
     "data": {
      "image/png": "[encoded data removed]",
      "text/plain": [
       "<Figure size 720x720 with 1 Axes>"
      ]
     },
     "metadata": {
      "needs_background": "light"
     },
     "output_type": "display_data"
    }
   ],
   "source": [
    "plt.figure(figsize = (10,10)) # Label Count\n",
    "sns.set_style(\"darkgrid\")\n",
    "sns.countplot(train_df['label'])"
   ]
  },
  {
   "cell_type": "code",
   "execution_count": 4,
   "metadata": {},
   "outputs": [],
   "source": [
    "train_data = np.array(train_df, dtype='float32')\n",
    "test_data = np.array(test_df, dtype='float32')\n",
    "\n",
    "x_train = train_data[:, 1:] / 255\n",
    "y_train = train_data[:, 0]\n",
    "\n",
    "x_test = test_data[:, 1:] / 255\n",
    "y_test = test_data[:, 0]"
   ]
  },
  {
   "cell_type": "code",
   "execution_count": 6,
   "metadata": {},
   "outputs": [],
   "source": [
    "x_train, x_validate, y_train, y_validate = train_test_split(\n",
    "    x_train, y_train, test_size=0.2, random_state=12345\n",
    ")"
   ]
  },
  {
   "cell_type": "code",
   "execution_count": 7,
   "metadata": {},
   "outputs": [
    {
     "data": {
      "image/png": "[encoded data removed]",
      "text/plain": [
       "<Figure size 432x288 with 1 Axes>"
      ]
     },
     "metadata": {},
     "output_type": "display_data"
    }
   ],
   "source": [
    "image = x_train[28,:].reshape(28,28)\n",
    "plt.imshow(image)\n",
    "plt.show()"
   ]
  },
  {
   "cell_type": "code",
   "execution_count": 8,
   "metadata": {},
   "outputs": [],
   "source": [
    "import tensorflow.keras\n",
    "from tensorflow.keras.models import Sequential\n",
    "from tensorflow.keras.layers import Conv2D, MaxPooling2D, Dense, Flatten, Dropout\n",
    "from tensorflow.keras.optimizers import Adam"
   ]
  },
  {
   "cell_type": "code",
   "execution_count": 9,
   "metadata": {},
   "outputs": [
    {
     "name": "stdout",
     "output_type": "stream",
     "text": [
      "x_train shape: (21964, 28, 28, 1)\n",
      "x_test shape: (7172, 28, 28, 1)\n",
      "x_validate shape: (5491, 28, 28, 1)\n"
     ]
    }
   ],
   "source": [
    "im_rows = 28 \n",
    "im_cols = 28 \n",
    "batch_size = 256 \n",
    "im_shape = (im_rows, im_cols, 1)\n",
    "\n",
    "x_train = x_train.reshape(x_train.shape[0], *im_shape) \n",
    "x_test = x_test.reshape(x_test.shape[0], *im_shape)\n",
    "x_validate = x_validate.reshape(x_validate.shape[0], *im_shape)\n",
    "\n",
    "print('x_train shape: {}'.format(x_train.shape))\n",
    "print('x_test shape: {}'.format(x_test.shape))\n",
    "print('x_validate shape: {}'.format(x_validate.shape))"
   ]
  },
  {
   "cell_type": "code",
   "execution_count": 42,
   "metadata": {},
   "outputs": [],
   "source": [
    "cnn_model = Sequential()\n",
    "cnn_model.add(Conv2D(filters=8, kernel_size=(3,3),strides=(1,1),padding='same',input_shape=(28,28,1),activation='relu', data_format='channels_last'))\n",
    "cnn_model.add(MaxPooling2D(pool_size=(2,2)))\n",
    "cnn_model.add(Conv2D(filters=16, kernel_size=(3,3),strides=(1,1),padding='same',activation='relu'))\n",
    "cnn_model.add(Dropout(0.5))\n",
    "cnn_model.add(Conv2D(filters=32, kernel_size=(3,3),strides=(1,1),padding='same',activation='relu'))\n",
    "cnn_model.add(Dropout(0.5))\n",
    "cnn_model.add(MaxPooling2D(pool_size=(4,4)))\n",
    "cnn_model.add(Dense(256, activation='relu'))\n",
    "cnn_model.add(Flatten())\n",
    "cnn_model.add(Dense(25, activation='softmax'))"
   ]
  },
  {
   "cell_type": "code",
   "execution_count": 43,
   "metadata": {},
   "outputs": [],
   "source": [
    "cnn_model.compile(\n",
    "    loss='sparse_categorical_crossentropy',\n",
    "    optimizer=Adam(lr=0.001),\n",
    "    metrics=['accuracy']\n",
    ")"
   ]
  },
  {
   "cell_type": "code",
   "execution_count": 44,
   "metadata": {},
   "outputs": [
    {
     "name": "stdout",
     "output_type": "stream",
     "text": [
      "Train on 21964 samples, validate on 5491 samples\n",
      "Epoch 1/40\n",
      "21964/21964 [==============================] - 14s 629us/sample - loss: 2.8833 - accuracy: 0.1534 - val_loss: 2.4938 - val_accuracy: 0.3826\n",
      "Epoch 2/40\n",
      "21964/21964 [==============================] - 13s 574us/sample - loss: 1.5526 - accuracy: 0.5255 - val_loss: 1.4012 - val_accuracy: 0.6808\n",
      "Epoch 3/40\n",
      "21964/21964 [==============================] - 12s 566us/sample - loss: 0.8436 - accuracy: 0.7200 - val_loss: 0.8508 - val_accuracy: 0.8496\n",
      "Epoch 4/40\n",
      "21964/21964 [==============================] - 13s 575us/sample - loss: 0.5580 - accuracy: 0.8055 - val_loss: 0.5790 - val_accuracy: 0.9017\n",
      "Epoch 5/40\n",
      "21964/21964 [==============================] - 14s 630us/sample - loss: 0.4094 - accuracy: 0.8554 - val_loss: 0.4416 - val_accuracy: 0.9323\n",
      "Epoch 6/40\n",
      "21964/21964 [==============================] - 13s 580us/sample - loss: 0.3382 - accuracy: 0.8805 - val_loss: 0.3619 - val_accuracy: 0.9628\n",
      "Epoch 7/40\n",
      "21964/21964 [==============================] - 12s 567us/sample - loss: 0.2667 - accuracy: 0.9054 - val_loss: 0.2890 - val_accuracy: 0.9692\n",
      "Epoch 8/40\n",
      "21964/21964 [==============================] - 12s 562us/sample - loss: 0.2310 - accuracy: 0.9179 - val_loss: 0.2295 - val_accuracy: 0.9811\n",
      "Epoch 9/40\n",
      "21964/21964 [==============================] - 12s 565us/sample - loss: 0.2039 - accuracy: 0.9285 - val_loss: 0.2071 - val_accuracy: 0.9769\n",
      "Epoch 10/40\n",
      "21964/21964 [==============================] - 12s 568us/sample - loss: 0.1836 - accuracy: 0.9363 - val_loss: 0.1833 - val_accuracy: 0.9800\n",
      "Epoch 11/40\n",
      "21964/21964 [==============================] - 13s 569us/sample - loss: 0.1592 - accuracy: 0.9448 - val_loss: 0.1516 - val_accuracy: 0.9918\n",
      "Epoch 12/40\n",
      "21964/21964 [==============================] - 12s 564us/sample - loss: 0.1447 - accuracy: 0.9491 - val_loss: 0.1221 - val_accuracy: 0.9933\n",
      "Epoch 13/40\n",
      "21964/21964 [==============================] - 12s 556us/sample - loss: 0.1296 - accuracy: 0.9556 - val_loss: 0.1126 - val_accuracy: 0.9924\n",
      "Epoch 14/40\n",
      "21964/21964 [==============================] - 12s 554us/sample - loss: 0.1236 - accuracy: 0.9567 - val_loss: 0.0953 - val_accuracy: 0.9967\n",
      "Epoch 15/40\n",
      "21964/21964 [==============================] - 12s 561us/sample - loss: 0.1096 - accuracy: 0.9621 - val_loss: 0.0889 - val_accuracy: 0.9954\n",
      "Epoch 16/40\n",
      "21964/21964 [==============================] - 12s 564us/sample - loss: 0.1086 - accuracy: 0.9620 - val_loss: 0.0912 - val_accuracy: 0.9953\n",
      "Epoch 17/40\n",
      "21964/21964 [==============================] - 12s 557us/sample - loss: 0.0960 - accuracy: 0.9663 - val_loss: 0.0813 - val_accuracy: 0.9962\n",
      "Epoch 18/40\n",
      "21964/21964 [==============================] - 12s 560us/sample - loss: 0.0899 - accuracy: 0.9687 - val_loss: 0.0644 - val_accuracy: 0.9984\n",
      "Epoch 19/40\n",
      "21964/21964 [==============================] - 12s 562us/sample - loss: 0.0799 - accuracy: 0.9737 - val_loss: 0.0659 - val_accuracy: 0.9956\n",
      "Epoch 20/40\n",
      "21964/21964 [==============================] - 12s 561us/sample - loss: 0.0777 - accuracy: 0.9739 - val_loss: 0.0537 - val_accuracy: 0.9978\n",
      "Epoch 21/40\n",
      "21964/21964 [==============================] - 13s 570us/sample - loss: 0.0760 - accuracy: 0.9734 - val_loss: 0.0513 - val_accuracy: 0.9976\n",
      "Epoch 22/40\n",
      "21964/21964 [==============================] - 12s 563us/sample - loss: 0.0665 - accuracy: 0.9787 - val_loss: 0.0484 - val_accuracy: 0.9991\n",
      "Epoch 23/40\n",
      "21964/21964 [==============================] - 12s 567us/sample - loss: 0.0647 - accuracy: 0.9784 - val_loss: 0.0420 - val_accuracy: 0.9993\n",
      "Epoch 24/40\n",
      "21964/21964 [==============================] - 12s 564us/sample - loss: 0.0596 - accuracy: 0.9795 - val_loss: 0.0400 - val_accuracy: 0.9989\n",
      "Epoch 25/40\n",
      "21964/21964 [==============================] - 12s 565us/sample - loss: 0.0644 - accuracy: 0.9776 - val_loss: 0.0444 - val_accuracy: 0.9993\n",
      "Epoch 26/40\n",
      "21964/21964 [==============================] - 12s 567us/sample - loss: 0.0553 - accuracy: 0.9813 - val_loss: 0.0357 - val_accuracy: 0.9995\n",
      "Epoch 27/40\n",
      "21964/21964 [==============================] - 12s 566us/sample - loss: 0.0605 - accuracy: 0.9795 - val_loss: 0.0381 - val_accuracy: 0.9989\n",
      "Epoch 28/40\n",
      "21964/21964 [==============================] - 12s 568us/sample - loss: 0.0541 - accuracy: 0.9822 - val_loss: 0.0348 - val_accuracy: 0.9998\n",
      "Epoch 29/40\n",
      "21964/21964 [==============================] - 13s 573us/sample - loss: 0.0496 - accuracy: 0.9824 - val_loss: 0.0290 - val_accuracy: 0.9998\n",
      "Epoch 30/40\n",
      "21964/21964 [==============================] - 12s 561us/sample - loss: 0.0506 - accuracy: 0.9827 - val_loss: 0.0253 - val_accuracy: 0.9995\n",
      "Epoch 31/40\n",
      "21964/21964 [==============================] - 12s 569us/sample - loss: 0.0453 - accuracy: 0.9849 - val_loss: 0.0325 - val_accuracy: 0.9985\n",
      "Epoch 32/40\n",
      "21964/21964 [==============================] - 12s 565us/sample - loss: 0.0486 - accuracy: 0.9835 - val_loss: 0.0219 - val_accuracy: 1.0000\n",
      "Epoch 33/40\n",
      "21964/21964 [==============================] - 12s 563us/sample - loss: 0.0405 - accuracy: 0.9870 - val_loss: 0.0201 - val_accuracy: 1.0000\n",
      "Epoch 34/40\n",
      "21964/21964 [==============================] - 13s 587us/sample - loss: 0.0377 - accuracy: 0.9868 - val_loss: 0.0228 - val_accuracy: 0.9996\n",
      "Epoch 35/40\n",
      "21964/21964 [==============================] - 13s 580us/sample - loss: 0.0381 - accuracy: 0.9874 - val_loss: 0.0196 - val_accuracy: 0.9991\n",
      "Epoch 36/40\n",
      "21964/21964 [==============================] - 13s 595us/sample - loss: 0.0351 - accuracy: 0.9884 - val_loss: 0.0218 - val_accuracy: 0.9991\n",
      "Epoch 37/40\n",
      "21964/21964 [==============================] - 14s 645us/sample - loss: 0.0376 - accuracy: 0.9875 - val_loss: 0.0152 - val_accuracy: 0.9998\n",
      "Epoch 38/40\n",
      "21964/21964 [==============================] - 12s 562us/sample - loss: 0.0387 - accuracy: 0.9866 - val_loss: 0.0180 - val_accuracy: 0.9996\n",
      "Epoch 39/40\n",
      "21964/21964 [==============================] - 12s 559us/sample - loss: 0.0420 - accuracy: 0.9859 - val_loss: 0.0167 - val_accuracy: 1.0000\n",
      "Epoch 40/40\n",
      "21964/21964 [==============================] - 14s 617us/sample - loss: 0.0341 - accuracy: 0.9883 - val_loss: 0.0157 - val_accuracy: 0.9998\n"
     ]
    }
   ],
   "source": [
    "history = cnn_model.fit(x_train, y_train, batch_size=batch_size,\n",
    "              epochs=40,verbose=1,\n",
    "              validation_data=(x_validate, y_validate)\n",
    "             )"
   ]
  },
  {
   "cell_type": "code",
   "execution_count": 45,
   "metadata": {},
   "outputs": [
    {
     "name": "stdout",
     "output_type": "stream",
     "text": [
      "dict_keys(['loss', 'accuracy', 'val_loss', 'val_accuracy'])\n"
     ]
    }
   ],
   "source": [
    "print(history.history.keys())"
   ]
  },
  {
   "cell_type": "code",
   "execution_count": 46,
   "metadata": {},
   "outputs": [
    {
     "data": {
      "image/png": "[encoded data removed]",
      "text/plain": [
       "<Figure size 432x288 with 1 Axes>"
      ]
     },
     "metadata": {},
     "output_type": "display_data"
    },
    {
     "data": {
      "image/png": "[encoded data removed]",
      "text/plain": [
       "<Figure size 432x288 with 1 Axes>"
      ]
     },
     "metadata": {},
     "output_type": "display_data"
    }
   ],
   "source": [
    "plt.plot(history.history['accuracy'])\n",
    "plt.plot(history.history['val_accuracy'])\n",
    "plt.title('model accuracy')\n",
    "plt.ylabel('accuracy')\n",
    "plt.xlabel('epoch')\n",
    "plt.legend(['train', 'test'], loc='upper left')\n",
    "plt.show()\n",
    "# summarize history for loss\n",
    "plt.plot(history.history['loss'])\n",
    "plt.plot(history.history['val_loss'])\n",
    "plt.title('model loss')\n",
    "plt.ylabel('loss')\n",
    "plt.xlabel('epoch')\n",
    "plt.legend(['train', 'test'], loc='upper left')\n",
    "plt.show()"
   ]
  },
  {
   "cell_type": "code",
   "execution_count": 50,
   "metadata": {},
   "outputs": [
    {
     "name": "stdout",
     "output_type": "stream",
     "text": [
      "Model: \"sequential_2\"\n",
      "_________________________________________________________________\n",
      "Layer (type)                 Output Shape              Param #   \n",
      "=================================================================\n",
      "conv2d_7 (Conv2D)            (None, 28, 28, 8)         80        \n",
      "_________________________________________________________________\n",
      "max_pooling2d_4 (MaxPooling2 (None, 14, 14, 8)         0         \n",
      "_________________________________________________________________\n",
      "conv2d_8 (Conv2D)            (None, 14, 14, 16)        1168      \n",
      "_________________________________________________________________\n",
      "dropout_5 (Dropout)          (None, 14, 14, 16)        0         \n",
      "_________________________________________________________________\n",
      "conv2d_9 (Conv2D)            (None, 14, 14, 32)        4640      \n",
      "_________________________________________________________________\n",
      "dropout_6 (Dropout)          (None, 14, 14, 32)        0         \n",
      "_________________________________________________________________\n",
      "max_pooling2d_5 (MaxPooling2 (None, 3, 3, 32)          0         \n",
      "_________________________________________________________________\n",
      "dense_4 (Dense)              (None, 3, 3, 256)         8448      \n",
      "_________________________________________________________________\n",
      "flatten_2 (Flatten)          (None, 2304)              0         \n",
      "_________________________________________________________________\n",
      "dense_5 (Dense)              (None, 25)                57625     \n",
      "=================================================================\n",
      "Total params: 71,961\n",
      "Trainable params: 71,961\n",
      "Non-trainable params: 0\n",
      "_________________________________________________________________\n"
     ]
    }
   ],
   "source": [
    "cnn_model.save('CNN_model.h5')\n",
    "model_json = cnn_model.to_json()\n",
    "with open('model-bw.json', 'w') as json_file:\n",
    "    json_file.write(model_json)\n",
    "cnn_model.save_weights('model-bw.h5')\n",
    "cnn_model.summary()"
   ]
  },
  {
   "cell_type": "code",
   "execution_count": 47,
   "metadata": {},
   "outputs": [
    {
     "name": "stdout",
     "output_type": "stream",
     "text": [
      "test loss: 0.1274\n",
      "test accuracy: 0.9591\n"
     ]
    }
   ],
   "source": [
    "score = cnn_model.evaluate(x_test, y_test, verbose=0)\n",
    "\n",
    "print('test loss: {:.4f}'.format(score[0]))\n",
    "print('test accuracy: {:.4f}'.format(score[1]))"
   ]
  }
 ],
 "metadata": {
  "kernelspec": {
   "display_name": "Python 3",
   "language": "python",
   "name": "python3"
  },
  "language_info": {
   "codemirror_mode": {
    "name": "ipython",
    "version": 3
   },
   "file_extension": ".py",
   "mimetype": "text/x-python",
   "name": "python",
   "nbconvert_exporter": "python",
   "pygments_lexer": "ipython3",
   "version": "3.7.4"
  }
 },
 "nbformat": 4,
 "nbformat_minor": 2
}
